{
 "cells": [
  {
   "cell_type": "code",
   "execution_count": 1,
   "id": "4aa494fd-0c11-473c-904a-10ad65ccd993",
   "metadata": {},
   "outputs": [],
   "source": [
    "#All imports\n",
    "\n",
    "import yfinance as yf\n",
    "import pandas as pd\n",
    "import json\n",
    "import matplotlib.pyplot as plt\n",
    "import seaborn as sns\n",
    "import os\n",
    "import sqlite3\n",
    "import numpy as np\n",
    "from tensorflow.keras.models import Sequential\n",
    "from tensorflow.keras.layers import LSTM\n",
    "from tensorflow.keras.layers import Dense, Dropout\n",
    "from sklearn.preprocessing import StandardScaler\n",
    "from datetime import datetime\n",
    "import mplfinance as mpf"
   ]
  },
  {
   "cell_type": "code",
   "execution_count": 2,
   "id": "26ec9349-2642-488e-8147-f1aa02a40a90",
   "metadata": {},
   "outputs": [],
   "source": [
    "def plot_candle(symbol, interval, period):\n",
    "    #Candlestick plotter using matplotlib finance\n",
    "    ticker = yf.Ticker(symbol).history(interval = interval, period = period, prepost = True)\n",
    "    mpf.plot(ticker, type = 'candle', style = 'charles', ylabel = 'Price')"
   ]
  },
  {
   "cell_type": "code",
   "execution_count": 3,
   "id": "39811416-7572-4944-b33b-7f43198645ba",
   "metadata": {},
   "outputs": [],
   "source": [
    "def plot_line(symbol, interval, period):\n",
    "    #LIne graph plotter using matplotlib finance library\n",
    "    ticker = yf.Ticker(symbol).history(interval = interval, period = period, prepost = True)\n",
    "    mpf.plot(ticker, type = 'line', style = 'charles', ylabel = 'Price')"
   ]
  },
  {
   "cell_type": "code",
   "execution_count": 4,
   "id": "030d14b9-0bdd-4512-a2bb-f3ca95d21565",
   "metadata": {},
   "outputs": [],
   "source": [
    "def create_ticker(symbol, interval, period):\n",
    "    #Returns pandas dataframe with datetime, open, close, high, low, volume etc.\n",
    "    ticker = yf.Ticker(symbol).history(interval = interval, period = period, prepost = True)\n",
    "    # Reset the index to convert it to a column\n",
    "    ticker.reset_index(inplace=True)\n",
    "    return ticker"
   ]
  },
  {
   "cell_type": "code",
   "execution_count": 5,
   "id": "71cb6e0e-1921-484e-8402-3760bf500dcc",
   "metadata": {},
   "outputs": [],
   "source": [
    "#test ticker\n",
    "ticker = create_ticker(\"AAPL\", '1d', '1y')"
   ]
  },
  {
   "cell_type": "code",
   "execution_count": 8,
   "id": "bfd4015c",
   "metadata": {},
   "outputs": [],
   "source": [
    "def add_sma(ticker):\n",
    "    #adds simple moving averages\n",
    "    # Add a 20-day moving average\n",
    "    ticker['SMA_20'] = ticker['Close'].rolling(window=20).mean()\n",
    "\n",
    "    # Add a 50-day moving average\n",
    "    ticker['SMA_50'] = ticker['Close'].rolling(window=50).mean()\n",
    "\n",
    "    # Add a 200-day moving average\n",
    "    ticker['SMA_200'] = ticker['Close'].rolling(window=200).mean()\n",
    "    return ticker"
   ]
  },
  {
   "cell_type": "code",
   "execution_count": 9,
   "id": "b16f5750",
   "metadata": {},
   "outputs": [],
   "source": [
    "def add_emv(ticker):\n",
    "    # Add a 20-day exponential moving average\n",
    "    ticker['EMA_20'] = ticker['Close'].ewm(span=20, adjust=False).mean()\n",
    "\n",
    "    # Add a 50-day exponential moving average\n",
    "    ticker['EMA_50'] = ticker['Close'].ewm(span=50, adjust=False).mean()\n",
    "\n",
    "    # Add a 200-day exponential moving average\n",
    "    ticker['EMA_200'] = ticker['Close'].ewm(span=200, adjust=False).mean()\n",
    "    return ticker\n"
   ]
  },
  {
   "cell_type": "code",
   "execution_count": 10,
   "id": "c6e3cf30",
   "metadata": {},
   "outputs": [],
   "source": [
    "def separate_date(ticker):\n",
    "#Separate dates for future plotting\n",
    "    train_dates = pd.to_datetime(ticker['Date'])\n",
    "    return train_dates"
   ]
  },
  {
   "cell_type": "code",
   "execution_count": 11,
   "id": "39ac0698",
   "metadata": {},
   "outputs": [],
   "source": [
    "ticker = add_sma(ticker)\n",
    "ticker = add_emv(ticker)"
   ]
  },
  {
   "cell_type": "code",
   "execution_count": 20,
   "id": "0d891419",
   "metadata": {},
   "outputs": [],
   "source": [
    "def split_data(ratio):\n",
    "    #Determine the split index\n",
    "    index = int(len(ticker) * ratio) \n",
    "    \n",
    "    # Split the dataset into training and testing sets\n",
    "    df_train = ticker[:split_index]\n",
    "    df_test = ticker[split_index:]\n",
    "    df_train = df_train[cols].astype(float)\n",
    "    df_test = df_test[cols].astype(float)\n",
    "    \n",
    "    return df_train, df_test\n"
   ]
  },
  {
   "cell_type": "code",
   "execution_count": 21,
   "id": "e16b6ba7",
   "metadata": {},
   "outputs": [],
   "source": [
    "def normalise(df_train, df_test):\n",
    "    scaler = StandardScaler()\n",
    "    scaler = scaler.fit(df_train)\n",
    "    df_train_scaled = scaler.transform(df_train)\n",
    "    df_test_scaled = scaler.transform(df_test)\n",
    "    return df_train_scaled, df_test_scaled"
   ]
  },
  {
   "cell_type": "code",
   "execution_count": 30,
   "id": "0541f5df",
   "metadata": {},
   "outputs": [],
   "source": [
    "def preprocess_data(data, n_past, n_future, target):\n",
    "    \"\"\"\n",
    "    Preprocess the data into the format required for LSTM.\n",
    "    \n",
    "    Parameters:\n",
    "    - data: Scaled data\n",
    "    - n_past: Number of past days to use for prediction\n",
    "    - n_future: Number of future days to predict\n",
    "    \n",
    "    Returns:\n",
    "    - X: Input data for LSTM\n",
    "    - Y: Output data for LSTM\n",
    "    \"\"\"\n",
    "    X, Y = [], []\n",
    "\n",
    "    for i in range(n_past, len(data) - n_future + 1):\n",
    "        X.append(data[i - n_past:i, 0:data.shape[1]])\n",
    "        Y.append(data[i + n_future - 1:i + n_future, target])\n",
    "\n",
    "    return np.array(X), np.array(Y)"
   ]
  },
  {
   "cell_type": "code",
   "execution_count": 17,
   "id": "06d3b19c",
   "metadata": {},
   "outputs": [],
   "source": [
    "cols = ['Open', 'High', 'Low', 'Close', 'Volume', 'EMA_20', 'EMA_50', 'EMA_200']"
   ]
  },
  {
   "cell_type": "code",
   "execution_count": 24,
   "id": "c4f34255",
   "metadata": {},
   "outputs": [],
   "source": [
    "n_future = 3   # Number of days we want to look into the future based on the past days\n",
    "n_past = 30    # Number of past days we want to use to predict the future\n"
   ]
  },
  {
   "cell_type": "code",
   "execution_count": 25,
   "id": "59827e11",
   "metadata": {},
   "outputs": [],
   "source": [
    "def preprocess_data_p2(df_train_scaled, df_test_scaled, n_past, n_future):\n",
    "    trainX, trainY = preprocess_data(df_train_scaled, n_past, n_future)\n",
    "    testX, testY = preprocess_data(df_test_scaled, n_past, n_future)\n",
    "    return trainX, trainY, testX, testY"
   ]
  },
  {
   "cell_type": "code",
   "execution_count": 27,
   "id": "97952d09",
   "metadata": {},
   "outputs": [],
   "source": [
    "def fit_LSTM(trainX, trainY, testX, testY):\n",
    "    model = Sequential()\n",
    "    model.add(LSTM(64, activation='relu', input_shape=(trainX.shape[1], trainX.shape[2]), return_sequences=True))\n",
    "    model.add(LSTM(32, activation='relu', return_sequences=False))\n",
    "    model.add(Dropout(0.2))\n",
    "    model.add(Dense(trainY.shape[1]))\n",
    "\n",
    "    model.compile(optimizer='adam', loss='mse')\n",
    "    model.summary()\n",
    "\n",
    "    # Fit the model\n",
    "    history = model.fit(trainX, trainY, epochs=5, batch_size=16, validation_split=0.1, verbose=1)\n",
    "\n",
    "    plt.plot(history.history['loss'], label='Training loss')\n",
    "    plt.plot(history.history['val_loss'], label='Validation loss')\n",
    "    plt.legend()\n",
    "    plt.show()"
   ]
  },
  {
   "cell_type": "code",
   "execution_count": 31,
   "id": "7cfc9e97",
   "metadata": {},
   "outputs": [],
   "source": [
    "def predict(days_for_prediction, target):\n",
    "    prediction = model.predict(testX[-days_for_prediction:]) \n",
    "    #Rescale back to original range\n",
    "    prediction_copies = np.repeat(prediction, df_for_testing.shape[1], axis=-1)\n",
    "    y_pred_future = scaler.inverse_transform(prediction_copies)[:, target]\n",
    "    return y_pred_future"
   ]
  },
  {
   "cell_type": "code",
   "execution_count": null,
   "id": "a03c90e6",
   "metadata": {},
   "outputs": [],
   "source": []
  }
 ],
 "metadata": {
  "kernelspec": {
   "display_name": "python3",
   "language": "python",
   "name": "python3"
  },
  "language_info": {
   "codemirror_mode": {
    "name": "ipython",
    "version": 3
   },
   "file_extension": ".py",
   "mimetype": "text/x-python",
   "name": "python",
   "nbconvert_exporter": "python",
   "pygments_lexer": "ipython3",
   "version": "3.11.9"
  }
 },
 "nbformat": 4,
 "nbformat_minor": 5
}
