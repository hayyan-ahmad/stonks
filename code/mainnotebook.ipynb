{
 "cells": [
  {
   "cell_type": "code",
   "execution_count": null,
   "id": "4aa494fd-0c11-473c-904a-10ad65ccd993",
   "metadata": {},
   "outputs": [],
   "source": [
    "#All imports\n",
    "\n",
    "import yfinance as yf\n",
    "import pandas as pd\n",
    "import json\n",
    "import matplotlib.pyplot as plt\n",
    "import seaborn as sns\n",
    "import os\n",
    "import sqlite3\n",
    "import numpy as np\n",
    "from tensorflow.keras.models import Sequential\n",
    "from tensorflow.keras.layers import LSTM\n",
    "from tensorflow.keras.layers import Dense, Dropout\n",
    "from sklearn.preprocessing import StandardScaler\n",
    "from datetime import datetime\n",
    "import mplfinance as mpf"
   ]
  },
  {
   "cell_type": "code",
   "execution_count": null,
   "id": "26ec9349-2642-488e-8147-f1aa02a40a90",
   "metadata": {},
   "outputs": [],
   "source": [
    "def plot_candle(symbol, interval, period):\n",
    "    #Candlestick plotter using matplotlib finance\n",
    "    ticker = yf.Ticker(symbol).history(interval = interval, period = period, prepost = True)\n",
    "    mpf.plot(ticker, type = 'candle', style = 'charles', ylabel = 'Price')"
   ]
  },
  {
   "cell_type": "code",
   "execution_count": null,
   "id": "39811416-7572-4944-b33b-7f43198645ba",
   "metadata": {},
   "outputs": [],
   "source": [
    "def plot_line(symbol, interval, period):\n",
    "    #LIne graph plotter using matplotlib finance library\n",
    "    ticker = yf.Ticker(symbol).history(interval = interval, period = period, prepost = True)\n",
    "    mpf.plot(ticker, type = 'line', style = 'charles', ylabel = 'Price')"
   ]
  },
  {
   "cell_type": "code",
   "execution_count": null,
   "id": "030d14b9-0bdd-4512-a2bb-f3ca95d21565",
   "metadata": {},
   "outputs": [],
   "source": [
    "def create_ticker(symbol, interval, period):\n",
    "    #Returns pandas dataframe with datetime, open, close, high, low, volume etc.\n",
    "    ticker = yf.Ticker(symbol).history(interval = interval, period = period, prepost = True)\n",
    "    return ticker"
   ]
  },
  {
   "cell_type": "code",
   "execution_count": null,
   "id": "71cb6e0e-1921-484e-8402-3760bf500dcc",
   "metadata": {},
   "outputs": [],
   "source": [
    "#test ticker\n",
    "ticker = create_ticker(\"AAPL\", '1d', '1y')"
   ]
  },
  {
   "cell_type": "code",
   "execution_count": null,
   "id": "cda50a0a-4e23-41b8-8b74-41470c9db8dc",
   "metadata": {},
   "outputs": [],
   "source": [
    "train_dates = pd.to_datetime(ticker['Datetime'])\n",
    "print(train_dates.tail(15))"
   ]
  },
  {
   "cell_type": "code",
   "execution_count": null,
   "id": "fbae2923-b90f-4db3-8c37-413f3012ca8c",
   "metadata": {},
   "outputs": [],
   "source": []
  }
 ],
 "metadata": {
  "kernelspec": {
   "display_name": "python3",
   "language": "python",
   "name": "python3"
  }
 },
 "nbformat": 4,
 "nbformat_minor": 5
}
